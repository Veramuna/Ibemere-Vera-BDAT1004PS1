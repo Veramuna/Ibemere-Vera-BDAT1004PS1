{
 "cells": [
  {
   "cell_type": "markdown",
   "id": "41dd4328-e88b-46b7-9dea-a0645e63227a",
   "metadata": {},
   "source": [
    "# Question 1\n",
    "Identify Data Type"
   ]
  },
  {
   "cell_type": "code",
   "execution_count": 15,
   "id": "541941f4-5545-4cb0-be2e-36390cd90252",
   "metadata": {},
   "outputs": [
    {
     "name": "stdout",
     "output_type": "stream",
     "text": [
      "5 <class 'int'>\n",
      "5.0 <class 'float'>\n",
      "True <class 'bool'>\n",
      "5 <class 'str'>\n",
      "10 <class 'int'>\n",
      "55 <class 'str'>\n",
      "52 <class 'str'>\n",
      "2.5 <class 'float'>\n",
      "1 <class 'int'>\n",
      "{1, 2, 5} <class 'set'>\n",
      "False <class 'bool'>\n",
      "3.141592653589793 <class 'float'>\n"
     ]
    }
   ],
   "source": [
    "1 = 5            \n",
    "print(1, type(1))\n",
    " \n",
    "2 = 5.0          \n",
    "print(2, type(2))\n",
    " \n",
    "3 = 5 > 1       \n",
    "print(3, type(3))\n",
    " \n",
    "4 = '5'         \n",
    "print(4, type(4))\n",
    " \n",
    "5 = 5 * 2        \n",
    "print(5, type(5))\n",
    " \n",
    "6 = '5' * 2      \n",
    "print(6, type(6))\n",
    " \n",
    "7 = '5' + '2'    \n",
    "print(7, type(7))\n",
    " \n",
    "8 = 5 / 2       \n",
    "print(8, type(8))\n",
    " \n",
    "9 = 5 % 2        \n",
    "print(9, type(9))\n",
    " \n",
    "10 = {5, 2, 1}  \n",
    "print(10, type(10))\n",
    " \n",
    "11 = 5 == 3      \n",
    "print(11, type(11))\n",
    " \n",
    "12 = math.pi     \n",
    "print(12, type(12))"
   ]
  },
  {
   "cell_type": "markdown",
   "id": "5a650b9a-9ffb-4be0-88fc-667b9a959a7b",
   "metadata": {},
   "source": [
    "# Question 2\n",
    "Python expressions "
   ]
  },
  {
   "cell_type": "code",
   "execution_count": 17,
   "id": "e8d7a815-6aed-4d81-bfac-2d7f9c38444a",
   "metadata": {},
   "outputs": [
    {
     "name": "stdout",
     "output_type": "stream",
     "text": [
      "a. Number of letters: 34\n",
      "b. Contains 'ice': True\n",
      "c. Longest word: Supercalifragilisticexpialidocious\n",
      "d. First composer: Bartok\n",
      "Last composer: Buxtehude\n"
     ]
    }
   ],
   "source": [
    "word_a = 'Supercalifragilisticexpialidocious'\n",
    "count_letters = len(word_a)\n",
    "print(f\"a. Number of letters: {count_letters}\")\n",
    " \n",
    "contains_ice = 'ice' in word_a\n",
    "print(f\"b. Contains 'ice': {contains_ice}\")\n",
    " \n",
    "words = [\n",
    "    'Supercalifragilisticexpialidocious',\n",
    "    'Honorificabilitudinitatibus',\n",
    "    'Bababadalgharaghtakamminarronnkonn'\n",
    "]\n",
    "longest_word = max(words, key=len)\n",
    "print(f\"c. Longest word: {longest_word}\")\n",
    "\n",
    "composers = ['Berlioz', 'Borodin', 'Brian', 'Bartok', 'Bellini', 'Buxtehude', 'Bernstein']\n",
    "first_composer = min(composers)\n",
    "last_composer = max(composers)\n",
    "print(f\"d. First composer: {first_composer}\")\n",
    "print(f\"Last composer: {last_composer}\")"
   ]
  },
  {
   "cell_type": "markdown",
   "id": "cae9686f-ed51-49e8-bd14-677882c51c67",
   "metadata": {},
   "source": [
    "# Question 3\n",
    "Function Implementation"
   ]
  },
  {
   "cell_type": "code",
   "execution_count": 20,
   "id": "4f4aa957-d3bf-4236-8158-be4d267708af",
   "metadata": {},
   "outputs": [
    {
     "name": "stdout",
     "output_type": "stream",
     "text": [
      "1.7320508075688772\n"
     ]
    }
   ],
   "source": [
    " \n",
    "def triangleArea(a, b, c):\n",
    "    s = (a + b + c) / 2\n",
    "    area = math.sqrt(s * (s - a) * (s - b) * (s - c))\n",
    "    return area\n",
    " \n",
    "# Example usage\n",
    "result = triangleArea(2, 2, 2)\n",
    "print(result)"
   ]
  },
  {
   "cell_type": "markdown",
   "id": "3c860227-7234-4c49-8d2f-bd8528718240",
   "metadata": {},
   "source": [
    "# Question 4\n",
    "Odd and even integers"
   ]
  },
  {
   "cell_type": "code",
   "execution_count": 23,
   "id": "b3b58268-b354-4603-9efc-27eb2f277186",
   "metadata": {},
   "outputs": [
    {
     "name": "stdin",
     "output_type": "stream",
     "text": [
      "Input the number of elements to be stored in the array:  5\n",
      "Element - 0 :  25\n",
      "Element - 1 :  47\n",
      "Element - 2 :  42\n",
      "Element - 3 :  56\n",
      "Element - 4 :  32\n"
     ]
    },
    {
     "name": "stdout",
     "output_type": "stream",
     "text": [
      "The Even elements are:\n",
      "42 56 32\n",
      "The Odd elements are:\n",
      "25 47\n"
     ]
    }
   ],
   "source": [
    "def separate_odd_even():\n",
    "    even_numbers = []\n",
    "    odd_numbers = []\n",
    "    \n",
    "     num_elements = int(input(\"Input the number of elements to be stored in the array: \"))\n",
    "    \n",
    "    for i in range(num_elements):\n",
    "    element = int(input(f\"Element - {i} : \"))\n",
    "    if element % 2 == 0:\n",
    "    even_numbers.append(element) \n",
    "    else:\n",
    "    odd_numbers.append(element)    \n",
    " \n",
    "    print(\"The Even elements are:\")\n",
    "    print(\" \".join(map(str, even_numbers)))\n",
    "    print(\"The Odd elements are:\")\n",
    "    print(\" \".join(map(str, odd_numbers)))\n",
    " \n",
    "    if __name__ == \"__main__\":\n",
    "    separate_odd_even()"
   ]
  },
  {
   "cell_type": "markdown",
   "id": "f75e04ac-7294-45f5-a6e7-ee38e2b241f5",
   "metadata": {},
   "source": [
    "# Question 5\n",
    "A Function that returns True or false"
   ]
  },
  {
   "cell_type": "code",
   "execution_count": 26,
   "id": "a5496abc-36aa-46b7-9363-3affb9e83fd8",
   "metadata": {},
   "outputs": [
    {
     "name": "stdout",
     "output_type": "stream",
     "text": [
      "True\n",
      "False\n"
     ]
    }
   ],
   "source": [
    "   def inside(x, y, x1, y1, x2, y2):\n",
    "   return x1 <= x <= x2 and y1 <= y <= y2\n",
    "\n",
    "\n",
    "   print(inside(1, 1, 0, 0, 2, 3))  \n",
    "   print(inside(-1, -1, 0, 0, 2, 3))  "
   ]
  },
  {
   "cell_type": "markdown",
   "id": "c0b02f58-ec6c-4b49-858b-17ab6a166de0",
   "metadata": {},
   "source": [
    "# Question 6\n",
    "Pig - Latin words using two rules"
   ]
  },
  {
   "cell_type": "code",
   "execution_count": 31,
   "id": "fb9c1a3b-5cc9-4430-8916-9206d92abfd8",
   "metadata": {},
   "outputs": [
    {
     "name": "stdout",
     "output_type": "stream",
     "text": [
      "appyhay\n",
      "enterway\n"
     ]
    }
   ],
   "source": [
    "def pig(word):\n",
    "    \n",
    "    word = word.lower()\n",
    "    if word[0] in 'aeiou':\n",
    "    return word + 'way'\n",
    "    else:\n",
    "    return word[1:] + word[0] + 'ay'\n",
    "    \n",
    "    if __name__ == \"__main__\":\n",
    "    print(pig('happy'))  \n",
    "    print(pig('Enter'))  "
   ]
  },
  {
   "cell_type": "markdown",
   "id": "5f069614-d079-4b17-937c-d09e0a465114",
   "metadata": {},
   "source": [
    "# Question 7\n",
    "\n",
    "Bloodtype 1 text Record\n"
   ]
  },
  {
   "cell_type": "code",
   "execution_count": 1,
   "id": "a0c04c3a-c8fb-4329-bdc2-3c4b60668d5c",
   "metadata": {},
   "outputs": [
    {
     "name": "stdout",
     "output_type": "stream",
     "text": [
      "There are 15 patients of blood type A.\n",
      "There is one patient of blood type B.\n",
      "There are 13 patients of blood type AB.\n",
      "There are 15 patients of blood type O.\n",
      "There are no patients of blood type OO.\n"
     ]
    }
   ],
   "source": [
    "def bldcount(filename):\n",
    "    \n",
    "    blood_types = ['A', 'B', 'AB', 'O', 'OO']\n",
    "    counts = {bt: 0 for bt in blood_types}\n",
    "    \n",
    "    try:\n",
    "    with open(filename, 'r') as file:\n",
    "    blood_data = file.read().strip().split()\n",
    "            \n",
    "    for blood in blood_data:\n",
    "    if blood in counts:\n",
    "    counts[blood] += 1\n",
    "        \n",
    "    for blood in blood_types:\n",
    "    if counts[blood] == 1:\n",
    "    print(f\"There is one patient of blood type {blood}.\")\n",
    "    elif counts[blood] > 1:\n",
    "    print(f\"There are {counts[blood]} patients of blood type {blood}.\")\n",
    "    else:\n",
    "    print(f\"There are no patients of blood type {blood}.\")\n",
    "    \n",
    "    except FileNotFoundError:\n",
    "    print(f\"The file {filename} was not found.\")\n",
    "    except Exception as e:\n",
    "    print(f\"An error occurred: {e}\")\n",
    "\n",
    "\n",
    "    if __name__ == \"__main__\":\n",
    "    bldcount('bloodtype1.txt')\n"
   ]
  },
  {
   "cell_type": "markdown",
   "id": "47d977fc-1ca1-49a6-88ad-bec5ef14f96c",
   "metadata": {},
   "source": [
    "# QUESTION 8\n",
    "\n",
    "Currency conversion"
   ]
  },
  {
   "cell_type": "code",
   "execution_count": 4,
   "id": "6f43c037-d6bc-4692-b49f-d63bef4c6479",
   "metadata": {},
   "outputs": [
    {
     "name": "stdout",
     "output_type": "stream",
     "text": [
      "122.96544\n",
      "1.241401\n"
     ]
    }
   ],
   "source": [
    "def curconv(currency, amount):\n",
    "    try:\n",
    "        with open('currencies.txt', 'r') as file:\n",
    "        rates = {}\n",
    "        for line in file:\n",
    "        data = line.split()\n",
    "        rates[data[0]] = float(data[1])\n",
    "        if currency in rates:\n",
    "        conversion_rate = rates[currency]\n",
    "        return amount * conversion_rate\n",
    "        else:\n",
    "        return \"Currency not found.\"\n",
    "\n",
    "        except FileNotFoundError:\n",
    "        return \"The file 'currencies.txt' was not found.\"\n",
    "        except Exception as e:\n",
    "        return f\"An error occurred: {e}\"\n",
    "\n",
    "        if __name__ == \"__main__\":\n",
    "        print(curconv('EUR', 100))  \n",
    "        print(curconv('JPY', 100)) \n"
   ]
  },
  {
   "cell_type": "markdown",
   "id": "ee0e2512-ad89-451c-84d2-9c3378d3451a",
   "metadata": {},
   "source": [
    "# QUESTION 9\n",
    "\n",
    "Analysing incompatible variables"
   ]
  },
  {
   "cell_type": "markdown",
   "id": "15f61002-9e01-4ed4-9674-dc12c35bee7b",
   "metadata": {},
   "source": [
    "#1 Trying to add incompatible variables, as in adding 6 + 'a':\n",
    "Exception: TypeError\n",
    "Reason: You cannot add an integer and a string together.\n",
    "\n",
    "#2 Referring to the 12th item of a list that has only 10 items:\n",
    "\n",
    "Exception: IndexError\n",
    "Reason: Trying to access an index that is out of range for the list.\n",
    "\n",
    "#3 Using an undeclared variable, such as print(x) when x has not been defined:\n",
    "\n",
    "Exception: NameError\n",
    "\n",
    "#4 Trying to open a file that does not exist, such as mistyping the file name or looking in the wrong directory:\n",
    "\n",
    "Exception: FileNotFoundError\n",
    "Reason: The file you are trying to open does not exist in the given path.\n"
   ]
  },
  {
   "cell_type": "markdown",
   "id": "6ab2ce22-617e-4d35-ae25-cf53c28d994b",
   "metadata": {},
   "source": [
    "# QUESTION 10\n",
    "Frequencies count"
   ]
  },
  {
   "cell_type": "code",
   "execution_count": 9,
   "id": "3578a744-1c28-4b4a-a2d2-a93fb97b4898",
   "metadata": {},
   "outputs": [
    {
     "name": "stdout",
     "output_type": "stream",
     "text": [
      "[1, 1, 1, 3, 5, 1, 1, 2, 1, 0, 1, 0, 1, 2, 4, 0, 1, 2, 0, 3, 1, 0, 1, 1, 0, 0]\n",
      "[1, 0, 0, 0, 1, 0, 0, 0, 0, 0, 0, 1, 0, 0, 0, 2, 0, 0, 0, 0, 0, 0, 0, 0, 0, 0]\n"
     ]
    }
   ],
   "source": [
    "def frequencies(text):\n",
    "    letters = 'abcdefghijklmnopqrstuvwxyz'\n",
    "    \n",
    "    freq_list = [0] * len(letters)\n",
    "    \n",
    "    text = text.lower()\n",
    "    \n",
    "    for char in text:\n",
    "    if char in letters:\n",
    "    freq_list[letters.index(char)] += 1\n",
    "    \n",
    "    return freq_list\n",
    "\n",
    "print(frequencies('The quick red fox got bored and went home.'))  \n",
    "print(frequencies('apple'))  "
   ]
  },
  {
   "cell_type": "code",
   "execution_count": null,
   "id": "559a7ca9-1f91-4bb5-934e-dfffb4e25685",
   "metadata": {},
   "outputs": [],
   "source": []
  }
 ],
 "metadata": {
  "kernelspec": {
   "display_name": "Python 3 (ipykernel)",
   "language": "python",
   "name": "python3"
  },
  "language_info": {
   "codemirror_mode": {
    "name": "ipython",
    "version": 3
   },
   "file_extension": ".py",
   "mimetype": "text/x-python",
   "name": "python",
   "nbconvert_exporter": "python",
   "pygments_lexer": "ipython3",
   "version": "3.12.4"
  }
 },
 "nbformat": 4,
 "nbformat_minor": 5
}
